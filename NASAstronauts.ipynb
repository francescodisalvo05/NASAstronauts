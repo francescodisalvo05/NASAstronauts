{
 "cells": [
  {
   "cell_type": "markdown",
   "metadata": {},
   "source": [
    "# NASAstronauts\n",
    "An astronaut is a human being who travels in space or is transported by something that does it. Thanks to this dataset we can know many curiosities about these \"magic\" people. This information relates to the generalities of astronauts from 1959 to 2017. In fact, in April 9, 1959, nine astronauts were selected for the Mercury Progra, one of the firsts SPACE programs.\n",
    "\n",
    "## Dataset\n",
    "This dataset (astronauts.csv) has nineteen columns, organized as follows: Name, Year, Group, Status, Birthdate, Birthplace, Gender, Alma mater, Undergraduate and Graduate Major.\n",
    "\n",
    "## Question \n",
    "1) What is the average age of astronauts on duty? <br />\n",
    "2) What are the most common academic studies? <br />\n",
    "3) Have most astronauts served in the military? Which branch? <br />\n",
    "4) What are the astronauts with more space walks? With how many hours? <br />\n",
    "5) What are the astronauts with more space flights? <br />\n",
    "6) What is the average age of death? <br />\n",
    "\n",
    "## Let's start\n",
    "First of all, we need to import all the modules, in particular Pandas and Numpy for the data manipulation, then Matplotlib and Seaborn for the data visualization. Datetime and dateutil will be useful for working on ages. "
   ]
  },
  {
   "cell_type": "code",
   "execution_count": 213,
   "metadata": {},
   "outputs": [],
   "source": [
    "import numpy as np\n",
    "import pandas as pd\n",
    "\n",
    "import matplotlib.pyplot as plt\n",
    "from matplotlib import cm\n",
    "import seaborn as sns\n",
    "\n",
    "from datetime import date\n",
    "from dateutil.relativedelta import relativedelta"
   ]
  },
  {
   "cell_type": "markdown",
   "metadata": {},
   "source": [
    "Then we need to import the dataset that we'll use"
   ]
  },
  {
   "cell_type": "code",
   "execution_count": 6,
   "metadata": {},
   "outputs": [],
   "source": [
    "df = pd.read_csv('CSV/astronauts.csv')"
   ]
  },
  {
   "cell_type": "markdown",
   "metadata": {},
   "source": [
    "Let's see the first input"
   ]
  },
  {
   "cell_type": "code",
   "execution_count": 59,
   "metadata": {},
   "outputs": [
    {
     "data": {
      "text/html": [
       "<div>\n",
       "<style scoped>\n",
       "    .dataframe tbody tr th:only-of-type {\n",
       "        vertical-align: middle;\n",
       "    }\n",
       "\n",
       "    .dataframe tbody tr th {\n",
       "        vertical-align: top;\n",
       "    }\n",
       "\n",
       "    .dataframe thead th {\n",
       "        text-align: right;\n",
       "    }\n",
       "</style>\n",
       "<table border=\"1\" class=\"dataframe\">\n",
       "  <thead>\n",
       "    <tr style=\"text-align: right;\">\n",
       "      <th></th>\n",
       "      <th>Name</th>\n",
       "      <th>Year</th>\n",
       "      <th>Group</th>\n",
       "      <th>Status</th>\n",
       "      <th>Birth Date</th>\n",
       "      <th>Birth Place</th>\n",
       "      <th>Gender</th>\n",
       "      <th>Alma Mater</th>\n",
       "      <th>Undergraduate Major</th>\n",
       "      <th>Graduate Major</th>\n",
       "      <th>Military Rank</th>\n",
       "      <th>Military Branch</th>\n",
       "      <th>Space Flights</th>\n",
       "      <th>Space Flight (hr)</th>\n",
       "      <th>Space Walks</th>\n",
       "      <th>Space Walks (hr)</th>\n",
       "      <th>Missions</th>\n",
       "      <th>Death Date</th>\n",
       "      <th>Death Mission</th>\n",
       "    </tr>\n",
       "  </thead>\n",
       "  <tbody>\n",
       "    <tr>\n",
       "      <th>0</th>\n",
       "      <td>Joseph M. Acaba</td>\n",
       "      <td>2004.0</td>\n",
       "      <td>19.0</td>\n",
       "      <td>Active</td>\n",
       "      <td>5/17/1967</td>\n",
       "      <td>Inglewood, CA</td>\n",
       "      <td>Male</td>\n",
       "      <td>University of California-Santa Barbara; Univer...</td>\n",
       "      <td>Geology</td>\n",
       "      <td>Geology</td>\n",
       "      <td>NaN</td>\n",
       "      <td>NaN</td>\n",
       "      <td>2</td>\n",
       "      <td>3307</td>\n",
       "      <td>2</td>\n",
       "      <td>13.0</td>\n",
       "      <td>STS-119 (Discovery), ISS-31/32 (Soyuz)</td>\n",
       "      <td>NaN</td>\n",
       "      <td>NaN</td>\n",
       "    </tr>\n",
       "  </tbody>\n",
       "</table>\n",
       "</div>"
      ],
      "text/plain": [
       "              Name    Year  Group  Status Birth Date    Birth Place Gender  \\\n",
       "0  Joseph M. Acaba  2004.0   19.0  Active  5/17/1967  Inglewood, CA   Male   \n",
       "\n",
       "                                          Alma Mater Undergraduate Major  \\\n",
       "0  University of California-Santa Barbara; Univer...             Geology   \n",
       "\n",
       "  Graduate Major Military Rank Military Branch  Space Flights  \\\n",
       "0        Geology           NaN             NaN              2   \n",
       "\n",
       "   Space Flight (hr)  Space Walks  Space Walks (hr)  \\\n",
       "0               3307            2              13.0   \n",
       "\n",
       "                                 Missions Death Date Death Mission  \n",
       "0  STS-119 (Discovery), ISS-31/32 (Soyuz)        NaN           NaN  "
      ]
     },
     "execution_count": 59,
     "metadata": {},
     "output_type": "execute_result"
    }
   ],
   "source": [
    "df.head(1)"
   ]
  },
  {
   "cell_type": "markdown",
   "metadata": {},
   "source": [
    "### 1) What is the average age of astronauts on duty? \n",
    "We need to focus just on the records with Status = \"Active\", and then we can calculate the average. We suppose for simplicity that they're currently active in 2020. We'll use another dataframe with just the born date of active astronauts."
   ]
  },
  {
   "cell_type": "code",
   "execution_count": 48,
   "metadata": {},
   "outputs": [
    {
     "data": {
      "text/html": [
       "<div>\n",
       "<style scoped>\n",
       "    .dataframe tbody tr th:only-of-type {\n",
       "        vertical-align: middle;\n",
       "    }\n",
       "\n",
       "    .dataframe tbody tr th {\n",
       "        vertical-align: top;\n",
       "    }\n",
       "\n",
       "    .dataframe thead th {\n",
       "        text-align: right;\n",
       "    }\n",
       "</style>\n",
       "<table border=\"1\" class=\"dataframe\">\n",
       "  <thead>\n",
       "    <tr style=\"text-align: right;\">\n",
       "      <th></th>\n",
       "      <th>Birth Date</th>\n",
       "    </tr>\n",
       "  </thead>\n",
       "  <tbody>\n",
       "    <tr>\n",
       "      <th>0</th>\n",
       "      <td>5/17/1967</td>\n",
       "    </tr>\n",
       "    <tr>\n",
       "      <th>11</th>\n",
       "      <td>8/23/1967</td>\n",
       "    </tr>\n",
       "    <tr>\n",
       "      <th>15</th>\n",
       "      <td>11/26/1963</td>\n",
       "    </tr>\n",
       "  </tbody>\n",
       "</table>\n",
       "</div>"
      ],
      "text/plain": [
       "    Birth Date\n",
       "0    5/17/1967\n",
       "11   8/23/1967\n",
       "15  11/26/1963"
      ]
     },
     "execution_count": 48,
     "metadata": {},
     "output_type": "execute_result"
    }
   ],
   "source": [
    "df_years = df[df[\"Status\"] == \"Active\"]\n",
    "df_years = df_years[['Birth Date']]\n",
    "df_years.head(3)"
   ]
  },
  {
   "cell_type": "markdown",
   "metadata": {},
   "source": [
    "Before going on, we have to check in there is any null value"
   ]
  },
  {
   "cell_type": "code",
   "execution_count": 60,
   "metadata": {},
   "outputs": [
    {
     "data": {
      "text/plain": [
       "Birth Date    0\n",
       "Age           0\n",
       "dtype: int64"
      ]
     },
     "execution_count": 60,
     "metadata": {},
     "output_type": "execute_result"
    }
   ],
   "source": [
    "df_years.isnull().sum()"
   ]
  },
  {
   "cell_type": "markdown",
   "metadata": {},
   "source": [
    "Perfect, there is no null value, now we can add another column with the equivalent ages. "
   ]
  },
  {
   "cell_type": "code",
   "execution_count": 56,
   "metadata": {},
   "outputs": [
    {
     "data": {
      "text/html": [
       "<div>\n",
       "<style scoped>\n",
       "    .dataframe tbody tr th:only-of-type {\n",
       "        vertical-align: middle;\n",
       "    }\n",
       "\n",
       "    .dataframe tbody tr th {\n",
       "        vertical-align: top;\n",
       "    }\n",
       "\n",
       "    .dataframe thead th {\n",
       "        text-align: right;\n",
       "    }\n",
       "</style>\n",
       "<table border=\"1\" class=\"dataframe\">\n",
       "  <thead>\n",
       "    <tr style=\"text-align: right;\">\n",
       "      <th></th>\n",
       "      <th>Birth Date</th>\n",
       "      <th>Age</th>\n",
       "    </tr>\n",
       "  </thead>\n",
       "  <tbody>\n",
       "    <tr>\n",
       "      <th>0</th>\n",
       "      <td>5/17/1967</td>\n",
       "      <td>53</td>\n",
       "    </tr>\n",
       "    <tr>\n",
       "      <th>11</th>\n",
       "      <td>8/23/1967</td>\n",
       "      <td>52</td>\n",
       "    </tr>\n",
       "    <tr>\n",
       "      <th>15</th>\n",
       "      <td>11/26/1963</td>\n",
       "      <td>56</td>\n",
       "    </tr>\n",
       "  </tbody>\n",
       "</table>\n",
       "</div>"
      ],
      "text/plain": [
       "    Birth Date  Age\n",
       "0    5/17/1967   53\n",
       "11   8/23/1967   52\n",
       "15  11/26/1963   56"
      ]
     },
     "execution_count": 56,
     "metadata": {},
     "output_type": "execute_result"
    }
   ],
   "source": [
    "end_date = datetime.now()\n",
    "df_years[\"Age\"] = df_years.apply(lambda x: \n",
    "                                     relativedelta(end_date, \n",
    "                                                   datetime.strptime(x[\"Birth Date\"], '%m/%d/%Y')\n",
    "                                ).years, axis=1)\n",
    "\n",
    "df_years.head(3)"
   ]
  },
  {
   "cell_type": "code",
   "execution_count": 61,
   "metadata": {},
   "outputs": [
    {
     "data": {
      "text/plain": [
       "54.34"
      ]
     },
     "execution_count": 61,
     "metadata": {},
     "output_type": "execute_result"
    }
   ],
   "source": [
    "df_years[\"Age\"].mean()"
   ]
  },
  {
   "cell_type": "markdown",
   "metadata": {},
   "source": [
    "**So the average age of astronauts on duty is 53.34 years!**"
   ]
  },
  {
   "cell_type": "markdown",
   "metadata": {},
   "source": [
    "### 2) What are the most common academic studies? \n",
    "In this case we can use the \"groupby\" function and then count the occurrencies. After that, we can plot as we prefer, in this case I'll use a simple sns.barplot"
   ]
  },
  {
   "cell_type": "code",
   "execution_count": 109,
   "metadata": {},
   "outputs": [
    {
     "data": {
      "text/plain": [
       "Text(0.5, 0, 'Occorrencies')"
      ]
     },
     "execution_count": 109,
     "metadata": {},
     "output_type": "execute_result"
    },
    {
     "data": {
      "image/png": "[encoded data removed]",
      "text/plain": [
       "<Figure size 864x576 with 1 Axes>"
      ]
     },
     "metadata": {
      "needs_background": "light"
     },
     "output_type": "display_data"
    }
   ],
   "source": [
    "undergraduate = df.groupby([\"Undergraduate Major\"]).count()['Name'].sort_values(ascending=False)[:10]\n",
    "\n",
    "plt.figure(figsize=(12, 8))\n",
    "sns.barplot(y=undergraduate.index, x=undergraduate.values, palette=\"Blues\").set_title(\"Top 10 undergraduate Major\")\n",
    "plt.xlabel(\"Number of occurrences\")"
   ]
  },
  {
   "cell_type": "code",
   "execution_count": 114,
   "metadata": {},
   "outputs": [
    {
     "data": {
      "text/plain": [
       "Text(0.5, 0, 'Number of occurrences')"
      ]
     },
     "execution_count": 114,
     "metadata": {},
     "output_type": "execute_result"
    },
    {
     "data": {
      "image/png": "[encoded data removed]",
      "text/plain": [
       "<Figure size 864x576 with 1 Axes>"
      ]
     },
     "metadata": {
      "needs_background": "light"
     },
     "output_type": "display_data"
    }
   ],
   "source": [
    "graduate = df.groupby([\"Graduate Major\"]).count()['Name'].sort_values(ascending=False)[:10]\n",
    "\n",
    "plt.figure(figsize=(12, 8))\n",
    "sns.barplot(y=graduate.index, x=graduate.values, palette=\"Blues\").set_title(\"Top 10 graduate Major\")\n",
    "plt.xlabel(\"Number of occurrences\")"
   ]
  },
  {
   "cell_type": "markdown",
   "metadata": {},
   "source": [
    "### 3) Have most astronauts served in the military? Which branch?\n",
    "This time we need to focus also on \"null\" values, beacuse it means that that astronauts did not serve in the military. So, for asking to this question we can replace NaN to \"None\" and considering it as an option. "
   ]
  },
  {
   "cell_type": "code",
   "execution_count": 221,
   "metadata": {},
   "outputs": [
    {
     "data": {
      "text/plain": [
       "0                      None\n",
       "1                      None\n",
       "2         US Army (Retired)\n",
       "3    US Air Force (Retired)\n",
       "4    US Air Force (Retired)\n",
       "Name: Military Branch, dtype: object"
      ]
     },
     "execution_count": 221,
     "metadata": {},
     "output_type": "execute_result"
    }
   ],
   "source": [
    "df_military = df.fillna({'Military Branch':'None'})\n",
    "df_military[\"Military Branch\"][:5]"
   ]
  },
  {
   "cell_type": "markdown",
   "metadata": {},
   "source": [
    "Now, as before, we can use the groupby function and plot the result in a pieplot."
   ]
  },
  {
   "cell_type": "code",
   "execution_count": 222,
   "metadata": {
    "scrolled": false
   },
   "outputs": [
    {
     "data": {
      "text/plain": [
       "Military Branch\n",
       "None                               146\n",
       "US Air Force (Retired)              61\n",
       "US Navy (Retired)                   59\n",
       "US Navy                             21\n",
       "US Air Force                        21\n",
       "US Marine Corps (Retired)           17\n",
       "US Army (Retired)                   13\n",
       "US Army                              4\n",
       "US Marine Corps                      3\n",
       "US Air Force Reserves (Retired)      3\n",
       "US Naval Reserves                    2\n",
       "US Marine Corps Reserves             2\n",
       "US Coast Guard (Retired)             2\n",
       "US Air Force Reserves                2\n",
       "US Naval Reserves (Retired)          1\n",
       "Name: Name, dtype: int64"
      ]
     },
     "execution_count": 222,
     "metadata": {},
     "output_type": "execute_result"
    }
   ],
   "source": [
    "df_military.groupby([\"Military Branch\"]).count()['Name'].sort_values(ascending=False)"
   ]
  },
  {
   "cell_type": "markdown",
   "metadata": {},
   "source": [
    "Before we plot, we need to replace this \"(Retired)\" with the classic one. We can do this by the replace function. The first array contains all the value that we wanna replace, and the second one contains all the corresponding ones. "
   ]
  },
  {
   "cell_type": "code",
   "execution_count": 223,
   "metadata": {},
   "outputs": [
    {
     "data": {
      "text/plain": [
       "Military Branch\n",
       "None                        146\n",
       "US Air Force                 82\n",
       "US Navy                      80\n",
       "US Marine Corps              20\n",
       "US Army                      17\n",
       "US Air Force Reserves         5\n",
       "US Naval Reserves             3\n",
       "US Marine Corps Reserves      2\n",
       "US Coast Guard                2\n",
       "Name: Name, dtype: int64"
      ]
     },
     "execution_count": 223,
     "metadata": {},
     "output_type": "execute_result"
    }
   ],
   "source": [
    "df_military = df_military.replace([\"US Air Force (Retired)\",\"US Air Force Reserves (Retired)\",\n",
    "                                   \"US Army (Retired)\",\"US Coast Guard (Retired)\",\n",
    "                                   \"US Marine Corps (Retired)\",\"US Naval Reserves (Retired)\",\n",
    "                                   \"US Navy (Retired)\"],\n",
    "                                 \n",
    "                                  [\"US Air Force\", \"US Air Force Reserves\",\"US Army\",\"US Coast Guard\",\n",
    "                                   \"US Marine Corps\",\"US Naval Reserves\", \"US Navy\"]\n",
    "                                 ).groupby([\"Military Branch\"]).count()['Name'].sort_values(ascending=False)\n",
    "df_military"
   ]
  },
  {
   "cell_type": "markdown",
   "metadata": {},
   "source": [
    "Now we're finally ready to plot our result in a pie chart! For editing the default color, it can be helpful \"cm\" from Matplotlib, in fact we choose for the \"tab20c\" palette."
   ]
  },
  {
   "cell_type": "code",
   "execution_count": 249,
   "metadata": {},
   "outputs": [
    {
     "data": {
      "text/plain": [
       "<matplotlib.legend.Legend at 0x25f9dd6ebc8>"
      ]
     },
     "execution_count": 249,
     "metadata": {},
     "output_type": "execute_result"
    },
    {
     "data": {
      "image/png": "[encoded data removed]",
      "text/plain": [
       "<Figure size 864x864 with 1 Axes>"
      ]
     },
     "metadata": {},
     "output_type": "display_data"
    }
   ],
   "source": [
    "cs=cm.tab20c(np.arange(40))\n",
    "\n",
    "plt.figure(figsize=(12,12))\n",
    "plt.pie(df_military.values, colors=cs, autopct='%.1f%%')\n",
    "\n",
    "plt.ylabel(None)\n",
    "plt.legend(df_military.index, loc=\"upper right\")"
   ]
  },
  {
   "cell_type": "markdown",
   "metadata": {},
   "source": []
  }
 ],
 "metadata": {
  "kernelspec": {
   "display_name": "Python 3",
   "language": "python",
   "name": "python3"
  },
  "language_info": {
   "codemirror_mode": {
    "name": "ipython",
    "version": 3
   },
   "file_extension": ".py",
   "mimetype": "text/x-python",
   "name": "python",
   "nbconvert_exporter": "python",
   "pygments_lexer": "ipython3",
   "version": "3.7.6"
  }
 },
 "nbformat": 4,
 "nbformat_minor": 4
}
